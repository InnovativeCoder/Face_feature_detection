{
 "cells": [
  {
   "cell_type": "code",
   "execution_count": 1,
   "metadata": {
    "collapsed": true
   },
   "outputs": [],
   "source": [
    "import cv2\n",
    "import numpy as np\n",
    "import os"
   ]
  },
  {
   "cell_type": "code",
   "execution_count": 2,
   "metadata": {
    "collapsed": true
   },
   "outputs": [],
   "source": [
    "# Import cascade files\n",
    "face_cascade = cv2.CascadeClassifier('haarcascade_frontalface_default.xml')\n",
    "eye_cascade = cv2.CascadeClassifier('haarcascade_righteye_2splits.xml')\n",
    "mouth_cascade = cv2.CascadeClassifier('haarcascade_mcs_mouth.xml')"
   ]
  },
  {
   "cell_type": "code",
   "execution_count": 3,
   "metadata": {
    "collapsed": true
   },
   "outputs": [],
   "source": [
    "data = os.path.join('head/001')"
   ]
  },
  {
   "cell_type": "code",
   "execution_count": 4,
   "metadata": {
    "collapsed": true
   },
   "outputs": [],
   "source": [
    "# Start the video capture\n",
    "cap = cv2.VideoCapture(data)\n",
    "\n",
    "while True:\n",
    "    # Read the image from the video\n",
    "    ret, img = cap.read()\n",
    "    if not ret:\n",
    "        continue\n",
    "    \n",
    "    # Convert the image to grayscale\n",
    "    gray = cv2.cvtColor(img, cv2.COLOR_BGR2GRAY)\n",
    "    \n",
    "    # Detect the faces\n",
    "    faces = face_cascade.detectMultiScale(gray, 1.3, 5)\n",
    "    \n",
    "    # Draw a rectangle around detected faces (on the color image)\n",
    "    for (x, y, w, h) in faces:\n",
    "        cv2.rectangle(img, (x,y), (x+w, y+h), (255, 0, 0), 2)\n",
    "        \n",
    "        # Define variables to define regions of interest (faces) to search for eyes in\n",
    "        roi_gray = gray[y:y+h, x:x+w]\n",
    "        roi_color = img[y:y+h, x:x+w]\n",
    "        \n",
    "        # Detect eyes in the grayscale image\n",
    "        eyes = eye_cascade.detectMultiScale(roi_gray)\n",
    "        \n",
    "        # Draw a red rectangle around detected eyes (on the color image)\n",
    "        for (ex, ey, ew, eh) in eyes:\n",
    "            cv2.rectangle(roi_color, (ex, ey), (ex+ew, ey+eh), (0, 0, 255), 2)\n",
    "        \n",
    "        #Detect mouth in the grayscale image\n",
    "        mouth = mouth_cascade.detectMultiScale(roi_gray)\n",
    "        \n",
    "        #Draw a green rectangle arounder detected mouth\n",
    "        for (mx,my,mw,mh) in mouth:\n",
    "            cv2.rectangle(roi_color,(mx,my),(mx+mw,my+mh),(0,255,0),2) \n",
    "        \n",
    "    # Display the image\n",
    "    cv2.imshow('img', img)\n",
    "    \n",
    "    # Break loop if escape key is pressed\n",
    "    k = cv2.waitKey(30) & 0xff\n",
    "    if k == 27:\n",
    "        # Release the capture stream\n",
    "        cap.release()\n",
    "        break\n",
    "\n",
    "# Destroy cv2 windows\n",
    "cv2.destroyAllWindows()"
   ]
  },
  {
   "cell_type": "code",
   "execution_count": null,
   "metadata": {
    "collapsed": true
   },
   "outputs": [],
   "source": []
  },
  {
   "cell_type": "code",
   "execution_count": null,
   "metadata": {
    "collapsed": true
   },
   "outputs": [],
   "source": []
  },
  {
   "cell_type": "code",
   "execution_count": null,
   "metadata": {
    "collapsed": true
   },
   "outputs": [],
   "source": []
  }
 ],
 "metadata": {
  "kernelspec": {
   "display_name": "Python 3",
   "language": "python",
   "name": "python3"
  },
  "language_info": {
   "codemirror_mode": {
    "name": "ipython",
    "version": 3
   },
   "file_extension": ".py",
   "mimetype": "text/x-python",
   "name": "python",
   "nbconvert_exporter": "python",
   "pygments_lexer": "ipython3",
   "version": "3.6.1"
  }
 },
 "nbformat": 4,
 "nbformat_minor": 2
}
